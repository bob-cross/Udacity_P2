{
 "cells": [
  {
   "cell_type": "markdown",
   "metadata": {},
   "source": [
    "# ** Udacity Data Analyst Nanodegree ** #\n",
    "\n",
    "** Author: Bob Cross **\n",
    "\n",
    "** Date: October 3, 2016 **\n",
    "\n"
   ]
  },
  {
   "cell_type": "code",
   "execution_count": 2,
   "metadata": {
    "collapsed": false
   },
   "outputs": [
    {
     "name": "stdout",
     "output_type": "stream",
     "text": [
      "Populating the interactive namespace from numpy and matplotlib\n"
     ]
    }
   ],
   "source": [
    "# import needed ananlysis libraries\n",
    "\n",
    "# get started with importing pandas, numpy, matplotlib and seaborn\n",
    "import pandas as pd\n",
    "import numpy as np\n",
    "%pylab inline\n",
    "import matplotlib.pyplot as plt\n",
    "import seaborn as sns"
   ]
  },
  {
   "cell_type": "markdown",
   "metadata": {},
   "source": [
    "# ** Background Information ** #\n",
    "### ** What is a 'walk' in baseball? ** ### \n",
    "As described by Pro Baseball Insider a walk or base on balls (BB) refers to when a batter advances to 1st base because of 4 balls, or 4 pitches outside the strike zone.\n",
    "### ** Sooooo, what and where is the strike zone for a baseball player? ** ###\n",
    "and this is where it get's interesting . . . \n",
    "A Business Insider magazine 2014 article titled \"What An MLB Strike Zone Really Looks Like And Why Players Are Always So Mad About It\" puts it this way \"the strike zone remains the most frustrating aspect of a baseball game.\"\n",
    "The article goes on to provide the formal definition of the baseball strike zone:\n",
    "According to rule 2.00 of the Major League Baseball rule book, a strike zone is defined as \"that area over home plate the upper limit of which is a horizontal line at the midpoint between the top of the shoulders and the top of the uniform pants, and the lower level is a line at the hollow beneath the kneecap\" and is determined by \"the batter's stance as the batter is prepared to swing at a pitched ball\" as determined by the umpire.\n",
    "\n",
    "\n",
    "**HUH ???**\n",
    "Let's see a picture so we can get a better understanding of the Strike Zone."
   ]
  },
  {
   "cell_type": "markdown",
   "metadata": {},
   "source": [
    "![Image of Baseball Strike Zone](http://static3.businessinsider.com/image/5419ddfa6bb3f7d06e8e964b-714-637/9-17-2014%202-09-32%20pm.jpg)\n",
    "\n",
    "The Stirke Zone is also dependent on \"the batter's stance as the batter is prepared to swing at a pitched ball\". Numerous sources have generalized that the height of the Strike Zone is approximately 40% of a players overall height. Additionally, the width of the Strike Zone is determined by home plate which is 17\" wide. "
   ]
  },
  {
   "cell_type": "markdown",
   "metadata": {},
   "source": [
    "# ** Questions for Investigation ** #\n",
    "\n",
    "1. The overriding question of this investigation is: Do shorter players get more walks in baseball because of a reduced strile zone?\n",
    "2. What is the average height of a player and who are the tallest and shortest players to ever play in Major Leagur Baseball?\n",
    "3. What is the area of the rectangular strike zone for: a) the average player, b) the tallest 10% and c) the shortest 10%. Additionally, what is the strile zone size relationship to the percintile groups?  "
   ]
  },
  {
   "cell_type": "markdown",
   "metadata": {},
   "source": [
    "# ** Dataset ** #\n",
    "\n",
    "The 2015 version of The Lahman Baseball Database contains complete batting and pitching statistics from 1871 to 2015, plus fielding statistics, standings, team stats, managerial records, post-season data, and more. The Master data file (player names, DOB, and biographical info) and Batting data file (regular season batting statistics) tables are required for this analysis.\n",
    "The full database and a detailed description of its contents can be found on Sean Lahman's website."
   ]
  },
  {
   "cell_type": "code",
   "execution_count": null,
   "metadata": {
    "collapsed": false
   },
   "outputs": [],
   "source": []
  },
  {
   "cell_type": "code",
   "execution_count": 3,
   "metadata": {
    "collapsed": false
   },
   "outputs": [
    {
     "data": {
      "text/html": [
       "<div>\n",
       "<table border=\"1\" class=\"dataframe\">\n",
       "  <thead>\n",
       "    <tr style=\"text-align: right;\">\n",
       "      <th></th>\n",
       "      <th>playerID</th>\n",
       "      <th>birthYear</th>\n",
       "      <th>birthMonth</th>\n",
       "      <th>birthDay</th>\n",
       "      <th>birthCountry</th>\n",
       "      <th>birthState</th>\n",
       "      <th>birthCity</th>\n",
       "      <th>deathYear</th>\n",
       "      <th>deathMonth</th>\n",
       "      <th>deathDay</th>\n",
       "      <th>...</th>\n",
       "      <th>nameLast</th>\n",
       "      <th>nameGiven</th>\n",
       "      <th>weight</th>\n",
       "      <th>height</th>\n",
       "      <th>bats</th>\n",
       "      <th>throws</th>\n",
       "      <th>debut</th>\n",
       "      <th>finalGame</th>\n",
       "      <th>retroID</th>\n",
       "      <th>bbrefID</th>\n",
       "    </tr>\n",
       "  </thead>\n",
       "  <tbody>\n",
       "    <tr>\n",
       "      <th>0</th>\n",
       "      <td>aardsda01</td>\n",
       "      <td>1981.0</td>\n",
       "      <td>12.0</td>\n",
       "      <td>27.0</td>\n",
       "      <td>USA</td>\n",
       "      <td>CO</td>\n",
       "      <td>Denver</td>\n",
       "      <td>NaN</td>\n",
       "      <td>NaN</td>\n",
       "      <td>NaN</td>\n",
       "      <td>...</td>\n",
       "      <td>Aardsma</td>\n",
       "      <td>David Allan</td>\n",
       "      <td>220.0</td>\n",
       "      <td>75.0</td>\n",
       "      <td>R</td>\n",
       "      <td>R</td>\n",
       "      <td>2004-04-06</td>\n",
       "      <td>2015-08-23</td>\n",
       "      <td>aardd001</td>\n",
       "      <td>aardsda01</td>\n",
       "    </tr>\n",
       "    <tr>\n",
       "      <th>1</th>\n",
       "      <td>aaronha01</td>\n",
       "      <td>1934.0</td>\n",
       "      <td>2.0</td>\n",
       "      <td>5.0</td>\n",
       "      <td>USA</td>\n",
       "      <td>AL</td>\n",
       "      <td>Mobile</td>\n",
       "      <td>NaN</td>\n",
       "      <td>NaN</td>\n",
       "      <td>NaN</td>\n",
       "      <td>...</td>\n",
       "      <td>Aaron</td>\n",
       "      <td>Henry Louis</td>\n",
       "      <td>180.0</td>\n",
       "      <td>72.0</td>\n",
       "      <td>R</td>\n",
       "      <td>R</td>\n",
       "      <td>1954-04-13</td>\n",
       "      <td>1976-10-03</td>\n",
       "      <td>aaroh101</td>\n",
       "      <td>aaronha01</td>\n",
       "    </tr>\n",
       "    <tr>\n",
       "      <th>2</th>\n",
       "      <td>aaronto01</td>\n",
       "      <td>1939.0</td>\n",
       "      <td>8.0</td>\n",
       "      <td>5.0</td>\n",
       "      <td>USA</td>\n",
       "      <td>AL</td>\n",
       "      <td>Mobile</td>\n",
       "      <td>1984.0</td>\n",
       "      <td>8.0</td>\n",
       "      <td>16.0</td>\n",
       "      <td>...</td>\n",
       "      <td>Aaron</td>\n",
       "      <td>Tommie Lee</td>\n",
       "      <td>190.0</td>\n",
       "      <td>75.0</td>\n",
       "      <td>R</td>\n",
       "      <td>R</td>\n",
       "      <td>1962-04-10</td>\n",
       "      <td>1971-09-26</td>\n",
       "      <td>aarot101</td>\n",
       "      <td>aaronto01</td>\n",
       "    </tr>\n",
       "    <tr>\n",
       "      <th>3</th>\n",
       "      <td>aasedo01</td>\n",
       "      <td>1954.0</td>\n",
       "      <td>9.0</td>\n",
       "      <td>8.0</td>\n",
       "      <td>USA</td>\n",
       "      <td>CA</td>\n",
       "      <td>Orange</td>\n",
       "      <td>NaN</td>\n",
       "      <td>NaN</td>\n",
       "      <td>NaN</td>\n",
       "      <td>...</td>\n",
       "      <td>Aase</td>\n",
       "      <td>Donald William</td>\n",
       "      <td>190.0</td>\n",
       "      <td>75.0</td>\n",
       "      <td>R</td>\n",
       "      <td>R</td>\n",
       "      <td>1977-07-26</td>\n",
       "      <td>1990-10-03</td>\n",
       "      <td>aased001</td>\n",
       "      <td>aasedo01</td>\n",
       "    </tr>\n",
       "    <tr>\n",
       "      <th>4</th>\n",
       "      <td>abadan01</td>\n",
       "      <td>1972.0</td>\n",
       "      <td>8.0</td>\n",
       "      <td>25.0</td>\n",
       "      <td>USA</td>\n",
       "      <td>FL</td>\n",
       "      <td>Palm Beach</td>\n",
       "      <td>NaN</td>\n",
       "      <td>NaN</td>\n",
       "      <td>NaN</td>\n",
       "      <td>...</td>\n",
       "      <td>Abad</td>\n",
       "      <td>Fausto Andres</td>\n",
       "      <td>184.0</td>\n",
       "      <td>73.0</td>\n",
       "      <td>L</td>\n",
       "      <td>L</td>\n",
       "      <td>2001-09-10</td>\n",
       "      <td>2006-04-13</td>\n",
       "      <td>abada001</td>\n",
       "      <td>abadan01</td>\n",
       "    </tr>\n",
       "  </tbody>\n",
       "</table>\n",
       "<p>5 rows × 24 columns</p>\n",
       "</div>"
      ],
      "text/plain": [
       "    playerID  birthYear  birthMonth  birthDay birthCountry birthState  \\\n",
       "0  aardsda01     1981.0        12.0      27.0          USA         CO   \n",
       "1  aaronha01     1934.0         2.0       5.0          USA         AL   \n",
       "2  aaronto01     1939.0         8.0       5.0          USA         AL   \n",
       "3   aasedo01     1954.0         9.0       8.0          USA         CA   \n",
       "4   abadan01     1972.0         8.0      25.0          USA         FL   \n",
       "\n",
       "    birthCity  deathYear  deathMonth  deathDay    ...     nameLast  \\\n",
       "0      Denver        NaN         NaN       NaN    ...      Aardsma   \n",
       "1      Mobile        NaN         NaN       NaN    ...        Aaron   \n",
       "2      Mobile     1984.0         8.0      16.0    ...        Aaron   \n",
       "3      Orange        NaN         NaN       NaN    ...         Aase   \n",
       "4  Palm Beach        NaN         NaN       NaN    ...         Abad   \n",
       "\n",
       "        nameGiven weight height bats throws       debut   finalGame   retroID  \\\n",
       "0     David Allan  220.0   75.0    R      R  2004-04-06  2015-08-23  aardd001   \n",
       "1     Henry Louis  180.0   72.0    R      R  1954-04-13  1976-10-03  aaroh101   \n",
       "2      Tommie Lee  190.0   75.0    R      R  1962-04-10  1971-09-26  aarot101   \n",
       "3  Donald William  190.0   75.0    R      R  1977-07-26  1990-10-03  aased001   \n",
       "4   Fausto Andres  184.0   73.0    L      L  2001-09-10  2006-04-13  abada001   \n",
       "\n",
       "     bbrefID  \n",
       "0  aardsda01  \n",
       "1  aaronha01  \n",
       "2  aaronto01  \n",
       "3   aasedo01  \n",
       "4   abadan01  \n",
       "\n",
       "[5 rows x 24 columns]"
      ]
     },
     "execution_count": 3,
     "metadata": {},
     "output_type": "execute_result"
    }
   ],
   "source": [
    "#import the first  of two csv files needed for this analysis from The Lanman Baseball Dataset and review the fields\n",
    "\n",
    "master_df = pd.read_csv('master.csv')\n",
    "master_df.head(5)"
   ]
  },
  {
   "cell_type": "code",
   "execution_count": 4,
   "metadata": {
    "collapsed": false
   },
   "outputs": [
    {
     "data": {
      "text/html": [
       "<div>\n",
       "<table border=\"1\" class=\"dataframe\">\n",
       "  <thead>\n",
       "    <tr style=\"text-align: right;\">\n",
       "      <th></th>\n",
       "      <th>yearID</th>\n",
       "      <th>stint</th>\n",
       "      <th>G</th>\n",
       "      <th>AB</th>\n",
       "      <th>R</th>\n",
       "      <th>H</th>\n",
       "      <th>2B</th>\n",
       "      <th>3B</th>\n",
       "      <th>HR</th>\n",
       "      <th>RBI</th>\n",
       "      <th>SB</th>\n",
       "      <th>CS</th>\n",
       "      <th>BB</th>\n",
       "      <th>SO</th>\n",
       "      <th>IBB</th>\n",
       "      <th>HBP</th>\n",
       "      <th>SH</th>\n",
       "      <th>SF</th>\n",
       "      <th>GIDP</th>\n",
       "    </tr>\n",
       "  </thead>\n",
       "  <tbody>\n",
       "    <tr>\n",
       "      <th>count</th>\n",
       "      <td>101332.000000</td>\n",
       "      <td>101332.000000</td>\n",
       "      <td>101332.000000</td>\n",
       "      <td>96183.000000</td>\n",
       "      <td>96183.000000</td>\n",
       "      <td>96183.000000</td>\n",
       "      <td>96183.000000</td>\n",
       "      <td>96183.000000</td>\n",
       "      <td>96183.000000</td>\n",
       "      <td>95759.000000</td>\n",
       "      <td>94883.000000</td>\n",
       "      <td>72729.000000</td>\n",
       "      <td>96183.000000</td>\n",
       "      <td>88345.000000</td>\n",
       "      <td>59620.000000</td>\n",
       "      <td>93373.000000</td>\n",
       "      <td>89845.000000</td>\n",
       "      <td>60151.000000</td>\n",
       "      <td>70075.000000</td>\n",
       "    </tr>\n",
       "    <tr>\n",
       "      <th>mean</th>\n",
       "      <td>1963.506533</td>\n",
       "      <td>1.077567</td>\n",
       "      <td>51.400111</td>\n",
       "      <td>149.970327</td>\n",
       "      <td>19.887038</td>\n",
       "      <td>39.261647</td>\n",
       "      <td>6.637067</td>\n",
       "      <td>1.373361</td>\n",
       "      <td>2.949305</td>\n",
       "      <td>17.965163</td>\n",
       "      <td>3.158184</td>\n",
       "      <td>1.324025</td>\n",
       "      <td>13.811484</td>\n",
       "      <td>21.629849</td>\n",
       "      <td>1.213234</td>\n",
       "      <td>1.113395</td>\n",
       "      <td>2.457900</td>\n",
       "      <td>1.150122</td>\n",
       "      <td>3.210032</td>\n",
       "    </tr>\n",
       "    <tr>\n",
       "      <th>std</th>\n",
       "      <td>38.628278</td>\n",
       "      <td>0.283676</td>\n",
       "      <td>47.145273</td>\n",
       "      <td>186.557072</td>\n",
       "      <td>28.671365</td>\n",
       "      <td>53.310941</td>\n",
       "      <td>9.801563</td>\n",
       "      <td>2.710547</td>\n",
       "      <td>6.409662</td>\n",
       "      <td>26.756514</td>\n",
       "      <td>7.922994</td>\n",
       "      <td>2.838196</td>\n",
       "      <td>21.092775</td>\n",
       "      <td>28.432978</td>\n",
       "      <td>2.894918</td>\n",
       "      <td>2.320660</td>\n",
       "      <td>4.347818</td>\n",
       "      <td>2.023981</td>\n",
       "      <td>4.835881</td>\n",
       "    </tr>\n",
       "    <tr>\n",
       "      <th>min</th>\n",
       "      <td>1871.000000</td>\n",
       "      <td>1.000000</td>\n",
       "      <td>0.000000</td>\n",
       "      <td>0.000000</td>\n",
       "      <td>0.000000</td>\n",
       "      <td>0.000000</td>\n",
       "      <td>0.000000</td>\n",
       "      <td>0.000000</td>\n",
       "      <td>0.000000</td>\n",
       "      <td>0.000000</td>\n",
       "      <td>0.000000</td>\n",
       "      <td>0.000000</td>\n",
       "      <td>0.000000</td>\n",
       "      <td>0.000000</td>\n",
       "      <td>0.000000</td>\n",
       "      <td>0.000000</td>\n",
       "      <td>0.000000</td>\n",
       "      <td>0.000000</td>\n",
       "      <td>0.000000</td>\n",
       "    </tr>\n",
       "    <tr>\n",
       "      <th>25%</th>\n",
       "      <td>1933.000000</td>\n",
       "      <td>1.000000</td>\n",
       "      <td>13.000000</td>\n",
       "      <td>7.000000</td>\n",
       "      <td>0.000000</td>\n",
       "      <td>1.000000</td>\n",
       "      <td>0.000000</td>\n",
       "      <td>0.000000</td>\n",
       "      <td>0.000000</td>\n",
       "      <td>0.000000</td>\n",
       "      <td>0.000000</td>\n",
       "      <td>0.000000</td>\n",
       "      <td>0.000000</td>\n",
       "      <td>2.000000</td>\n",
       "      <td>0.000000</td>\n",
       "      <td>0.000000</td>\n",
       "      <td>0.000000</td>\n",
       "      <td>0.000000</td>\n",
       "      <td>0.000000</td>\n",
       "    </tr>\n",
       "    <tr>\n",
       "      <th>50%</th>\n",
       "      <td>1972.000000</td>\n",
       "      <td>1.000000</td>\n",
       "      <td>34.000000</td>\n",
       "      <td>57.000000</td>\n",
       "      <td>5.000000</td>\n",
       "      <td>11.000000</td>\n",
       "      <td>1.000000</td>\n",
       "      <td>0.000000</td>\n",
       "      <td>0.000000</td>\n",
       "      <td>4.000000</td>\n",
       "      <td>0.000000</td>\n",
       "      <td>0.000000</td>\n",
       "      <td>3.000000</td>\n",
       "      <td>10.000000</td>\n",
       "      <td>0.000000</td>\n",
       "      <td>0.000000</td>\n",
       "      <td>1.000000</td>\n",
       "      <td>0.000000</td>\n",
       "      <td>1.000000</td>\n",
       "    </tr>\n",
       "    <tr>\n",
       "      <th>75%</th>\n",
       "      <td>1997.000000</td>\n",
       "      <td>1.000000</td>\n",
       "      <td>80.250000</td>\n",
       "      <td>251.000000</td>\n",
       "      <td>30.000000</td>\n",
       "      <td>63.000000</td>\n",
       "      <td>10.000000</td>\n",
       "      <td>2.000000</td>\n",
       "      <td>3.000000</td>\n",
       "      <td>27.000000</td>\n",
       "      <td>2.000000</td>\n",
       "      <td>1.000000</td>\n",
       "      <td>20.000000</td>\n",
       "      <td>30.000000</td>\n",
       "      <td>1.000000</td>\n",
       "      <td>1.000000</td>\n",
       "      <td>3.000000</td>\n",
       "      <td>2.000000</td>\n",
       "      <td>5.000000</td>\n",
       "    </tr>\n",
       "    <tr>\n",
       "      <th>max</th>\n",
       "      <td>2015.000000</td>\n",
       "      <td>5.000000</td>\n",
       "      <td>165.000000</td>\n",
       "      <td>716.000000</td>\n",
       "      <td>192.000000</td>\n",
       "      <td>262.000000</td>\n",
       "      <td>67.000000</td>\n",
       "      <td>36.000000</td>\n",
       "      <td>73.000000</td>\n",
       "      <td>191.000000</td>\n",
       "      <td>138.000000</td>\n",
       "      <td>42.000000</td>\n",
       "      <td>232.000000</td>\n",
       "      <td>223.000000</td>\n",
       "      <td>120.000000</td>\n",
       "      <td>51.000000</td>\n",
       "      <td>67.000000</td>\n",
       "      <td>19.000000</td>\n",
       "      <td>36.000000</td>\n",
       "    </tr>\n",
       "  </tbody>\n",
       "</table>\n",
       "</div>"
      ],
      "text/plain": [
       "              yearID          stint              G            AB  \\\n",
       "count  101332.000000  101332.000000  101332.000000  96183.000000   \n",
       "mean     1963.506533       1.077567      51.400111    149.970327   \n",
       "std        38.628278       0.283676      47.145273    186.557072   \n",
       "min      1871.000000       1.000000       0.000000      0.000000   \n",
       "25%      1933.000000       1.000000      13.000000      7.000000   \n",
       "50%      1972.000000       1.000000      34.000000     57.000000   \n",
       "75%      1997.000000       1.000000      80.250000    251.000000   \n",
       "max      2015.000000       5.000000     165.000000    716.000000   \n",
       "\n",
       "                  R             H            2B            3B            HR  \\\n",
       "count  96183.000000  96183.000000  96183.000000  96183.000000  96183.000000   \n",
       "mean      19.887038     39.261647      6.637067      1.373361      2.949305   \n",
       "std       28.671365     53.310941      9.801563      2.710547      6.409662   \n",
       "min        0.000000      0.000000      0.000000      0.000000      0.000000   \n",
       "25%        0.000000      1.000000      0.000000      0.000000      0.000000   \n",
       "50%        5.000000     11.000000      1.000000      0.000000      0.000000   \n",
       "75%       30.000000     63.000000     10.000000      2.000000      3.000000   \n",
       "max      192.000000    262.000000     67.000000     36.000000     73.000000   \n",
       "\n",
       "                RBI            SB            CS            BB            SO  \\\n",
       "count  95759.000000  94883.000000  72729.000000  96183.000000  88345.000000   \n",
       "mean      17.965163      3.158184      1.324025     13.811484     21.629849   \n",
       "std       26.756514      7.922994      2.838196     21.092775     28.432978   \n",
       "min        0.000000      0.000000      0.000000      0.000000      0.000000   \n",
       "25%        0.000000      0.000000      0.000000      0.000000      2.000000   \n",
       "50%        4.000000      0.000000      0.000000      3.000000     10.000000   \n",
       "75%       27.000000      2.000000      1.000000     20.000000     30.000000   \n",
       "max      191.000000    138.000000     42.000000    232.000000    223.000000   \n",
       "\n",
       "                IBB           HBP            SH            SF          GIDP  \n",
       "count  59620.000000  93373.000000  89845.000000  60151.000000  70075.000000  \n",
       "mean       1.213234      1.113395      2.457900      1.150122      3.210032  \n",
       "std        2.894918      2.320660      4.347818      2.023981      4.835881  \n",
       "min        0.000000      0.000000      0.000000      0.000000      0.000000  \n",
       "25%        0.000000      0.000000      0.000000      0.000000      0.000000  \n",
       "50%        0.000000      0.000000      1.000000      0.000000      1.000000  \n",
       "75%        1.000000      1.000000      3.000000      2.000000      5.000000  \n",
       "max      120.000000     51.000000     67.000000     19.000000     36.000000  "
      ]
     },
     "execution_count": 4,
     "metadata": {},
     "output_type": "execute_result"
    }
   ],
   "source": [
    "#import the second  of two csv files needed for this analysis from The Lanman Baseball Dataset and review the fields\n",
    "\n",
    "batting_df = pd.read_csv('batting.csv')\n",
    "batting_df.head(5)\n",
    "batting_df.describe()\n"
   ]
  },
  {
   "cell_type": "markdown",
   "metadata": {},
   "source": [
    "# ** Data Wrangling ** #\n",
    "\n",
    "### ** Missing Data ** ###\n",
    "The next cells:\n",
    "1. remove 805 player entries that have no height reported.\n",
    "2. the average player is roughly 6 feet tall with the tallest player having been 6'11\" and the shortest being 3'7\"\n",
    "\n",
    "### ** Fun Fact ** ###\n",
    "On August 19, 1951, weighing 65 pounds (29 kg) and standing 3 feet 7 inches (109 cm) tall, Eddie Gaedel became the shortest player in the history of the Major Leagues. He made a single plate appearance and was walked with four consecutive balls.  His jersey, bearing the uniform number \"1⁄8\", is displayed in the St. Louis Cardinals Baseball Hall of Fame and Museum."
   ]
  },
  {
   "cell_type": "code",
   "execution_count": 5,
   "metadata": {
    "collapsed": false
   },
   "outputs": [
    {
     "data": {
      "text/plain": [
       "18846"
      ]
     },
     "execution_count": 5,
     "metadata": {},
     "output_type": "execute_result"
    }
   ],
   "source": [
    "player_info = master_df[['playerID', 'nameLast', 'height']]\n",
    "len(player_info)\n"
   ]
  },
  {
   "cell_type": "code",
   "execution_count": 6,
   "metadata": {
    "collapsed": false
   },
   "outputs": [
    {
     "data": {
      "text/plain": [
       "18041"
      ]
     },
     "execution_count": 6,
     "metadata": {},
     "output_type": "execute_result"
    }
   ],
   "source": [
    "player_info = player_info[np.isfinite(player_info['height'])]\n",
    "len(player_info)"
   ]
  },
  {
   "cell_type": "code",
   "execution_count": 31,
   "metadata": {
    "collapsed": false
   },
   "outputs": [
    {
     "data": {
      "text/plain": [
       "72.25563993126767"
      ]
     },
     "execution_count": 31,
     "metadata": {},
     "output_type": "execute_result"
    }
   ],
   "source": [
    "player_info[\"height\"].mean()"
   ]
  },
  {
   "cell_type": "code",
   "execution_count": 16,
   "metadata": {
    "collapsed": false
   },
   "outputs": [
    {
     "name": "stdout",
     "output_type": "stream",
     "text": [
      "playerID    gaedeed01\n",
      "nameLast       Gaedel\n",
      "height             43\n",
      "Name: 5761, dtype: object\n",
      "playerID    rauchjo01\n",
      "nameLast        Rauch\n",
      "height             83\n",
      "Name: 13950, dtype: object\n"
     ]
    }
   ],
   "source": [
    "shortest_player = player_info.loc[player_info['height'].idxmin()]\n",
    "tallest_player = player_info.loc[player_info['height'].idxmax()]\n",
    "\n",
    "print shortest_player\n",
    "print tallest_player"
   ]
  },
  {
   "cell_type": "markdown",
   "metadata": {},
   "source": [
    "# ** Data Wrangling ** #\n",
    "\n",
    "### ** Modifying Data ** ###\n",
    "\n",
    "For this analysis, the players career total walks and total at bats are needed. Over the 144 years of baseball data many players had a limited number of career at bats. In order to focus a players 'strke zone', this analysis shows only players with more than 100 career at bats. The next cells the modify batting.df for this purpose."
   ]
  },
  {
   "cell_type": "code",
   "execution_count": 22,
   "metadata": {
    "collapsed": false
   },
   "outputs": [
    {
     "data": {
      "text/plain": [
       "18659"
      ]
     },
     "execution_count": 22,
     "metadata": {},
     "output_type": "execute_result"
    }
   ],
   "source": [
    "BB_AB = batting_df[['playerID', 'BB', 'AB']]\n",
    "BB_AB = BB_AB.groupby('playerID').sum().reset_index()\n",
    "len(BB_AB)"
   ]
  },
  {
   "cell_type": "code",
   "execution_count": 23,
   "metadata": {
    "collapsed": false
   },
   "outputs": [
    {
     "data": {
      "text/plain": [
       "8672"
      ]
     },
     "execution_count": 23,
     "metadata": {},
     "output_type": "execute_result"
    }
   ],
   "source": [
    "BB_AB = BB_AB.loc[BB_AB['AB'] >= 100]\n",
    "len(BB_AB)"
   ]
  },
  {
   "cell_type": "code",
   "execution_count": 24,
   "metadata": {
    "collapsed": false
   },
   "outputs": [
    {
     "data": {
      "text/html": [
       "<div>\n",
       "<table border=\"1\" class=\"dataframe\">\n",
       "  <thead>\n",
       "    <tr style=\"text-align: right;\">\n",
       "      <th></th>\n",
       "      <th>playerID</th>\n",
       "      <th>BB</th>\n",
       "      <th>AB</th>\n",
       "      <th>walk_percent</th>\n",
       "    </tr>\n",
       "  </thead>\n",
       "  <tbody>\n",
       "    <tr>\n",
       "      <th>1</th>\n",
       "      <td>aaronha01</td>\n",
       "      <td>1402.0</td>\n",
       "      <td>12364.0</td>\n",
       "      <td>0.113394</td>\n",
       "    </tr>\n",
       "    <tr>\n",
       "      <th>2</th>\n",
       "      <td>aaronto01</td>\n",
       "      <td>86.0</td>\n",
       "      <td>944.0</td>\n",
       "      <td>0.091102</td>\n",
       "    </tr>\n",
       "    <tr>\n",
       "      <th>7</th>\n",
       "      <td>abbated01</td>\n",
       "      <td>289.0</td>\n",
       "      <td>3044.0</td>\n",
       "      <td>0.094941</td>\n",
       "    </tr>\n",
       "    <tr>\n",
       "      <th>8</th>\n",
       "      <td>abbeybe01</td>\n",
       "      <td>21.0</td>\n",
       "      <td>225.0</td>\n",
       "      <td>0.093333</td>\n",
       "    </tr>\n",
       "    <tr>\n",
       "      <th>9</th>\n",
       "      <td>abbeych01</td>\n",
       "      <td>167.0</td>\n",
       "      <td>1751.0</td>\n",
       "      <td>0.095374</td>\n",
       "    </tr>\n",
       "  </tbody>\n",
       "</table>\n",
       "</div>"
      ],
      "text/plain": [
       "    playerID      BB       AB  walk_percent\n",
       "1  aaronha01  1402.0  12364.0      0.113394\n",
       "2  aaronto01    86.0    944.0      0.091102\n",
       "7  abbated01   289.0   3044.0      0.094941\n",
       "8  abbeybe01    21.0    225.0      0.093333\n",
       "9  abbeych01   167.0   1751.0      0.095374"
      ]
     },
     "execution_count": 24,
     "metadata": {},
     "output_type": "execute_result"
    }
   ],
   "source": [
    "BB_AB['walk_percent'] = BB_AB.BB / BB_AB.AB\n",
    "BB_AB.head(5)"
   ]
  },
  {
   "cell_type": "markdown",
   "metadata": {},
   "source": [
    "# ** Data Wrangling ** #\n",
    "\n",
    "### ** Merging Data ** ###\n",
    "\n",
    "The next cells merge the player_info and BB_AB dataframes and then groups the players by height for analysis.\n",
    "The grouped data is then presented in table and graph form."
   ]
  },
  {
   "cell_type": "code",
   "execution_count": 39,
   "metadata": {
    "collapsed": false
   },
   "outputs": [
    {
     "data": {
      "text/html": [
       "<div>\n",
       "<table border=\"1\" class=\"dataframe\">\n",
       "  <thead>\n",
       "    <tr style=\"text-align: right;\">\n",
       "      <th></th>\n",
       "      <th>playerID</th>\n",
       "      <th>BB</th>\n",
       "      <th>AB</th>\n",
       "      <th>walk_percent</th>\n",
       "      <th>nameLast</th>\n",
       "      <th>height</th>\n",
       "    </tr>\n",
       "  </thead>\n",
       "  <tbody>\n",
       "    <tr>\n",
       "      <th>4956</th>\n",
       "      <td>mccormi01</td>\n",
       "      <td>43.0</td>\n",
       "      <td>347.0</td>\n",
       "      <td>0.123919</td>\n",
       "      <td>McCormack</td>\n",
       "      <td>63.0</td>\n",
       "    </tr>\n",
       "    <tr>\n",
       "      <th>7433</th>\n",
       "      <td>striccu01</td>\n",
       "      <td>414.0</td>\n",
       "      <td>4635.0</td>\n",
       "      <td>0.089320</td>\n",
       "      <td>Stricker</td>\n",
       "      <td>63.0</td>\n",
       "    </tr>\n",
       "    <tr>\n",
       "      <th>1571</th>\n",
       "      <td>corcola01</td>\n",
       "      <td>52.0</td>\n",
       "      <td>1289.0</td>\n",
       "      <td>0.040341</td>\n",
       "      <td>Corcoran</td>\n",
       "      <td>63.0</td>\n",
       "    </tr>\n",
       "    <tr>\n",
       "      <th>5937</th>\n",
       "      <td>pearcdi01</td>\n",
       "      <td>33.0</td>\n",
       "      <td>1328.0</td>\n",
       "      <td>0.024849</td>\n",
       "      <td>Pearce</td>\n",
       "      <td>63.0</td>\n",
       "    </tr>\n",
       "    <tr>\n",
       "      <th>6993</th>\n",
       "      <td>shannfr01</td>\n",
       "      <td>13.0</td>\n",
       "      <td>119.0</td>\n",
       "      <td>0.109244</td>\n",
       "      <td>Shannon</td>\n",
       "      <td>63.0</td>\n",
       "    </tr>\n",
       "  </tbody>\n",
       "</table>\n",
       "</div>"
      ],
      "text/plain": [
       "       playerID     BB      AB  walk_percent   nameLast  height\n",
       "4956  mccormi01   43.0   347.0      0.123919  McCormack    63.0\n",
       "7433  striccu01  414.0  4635.0      0.089320   Stricker    63.0\n",
       "1571  corcola01   52.0  1289.0      0.040341   Corcoran    63.0\n",
       "5937  pearcdi01   33.0  1328.0      0.024849     Pearce    63.0\n",
       "6993  shannfr01   13.0   119.0      0.109244    Shannon    63.0"
      ]
     },
     "execution_count": 39,
     "metadata": {},
     "output_type": "execute_result"
    }
   ],
   "source": [
    "walks_height_table = BB_AB.merge(player_info)\n",
    "walks_height_table.sort_values('height').head(5)"
   ]
  },
  {
   "cell_type": "code",
   "execution_count": 40,
   "metadata": {
    "collapsed": false
   },
   "outputs": [
    {
     "name": "stdout",
     "output_type": "stream",
     "text": [
      "    height          BB           AB  walk_percent\n",
      "0     63.0  105.833333  1365.000000      0.092861\n",
      "1     64.0  145.636364  2051.545455      0.079937\n",
      "2     65.0  190.433333  1966.533333      0.086778\n",
      "3     66.0  181.660550  1765.486239      0.087381\n",
      "4     67.0  139.425439  1490.043860      0.079348\n",
      "5     68.0  151.293671  1761.278481      0.079919\n",
      "6     69.0  154.987597  1776.967442      0.080255\n",
      "7     70.0  155.481517  1684.822749      0.082382\n",
      "8     71.0  158.551380  1753.407209      0.080414\n",
      "9     72.0  153.116518  1647.507197      0.079836\n",
      "10    73.0  153.262748  1659.484875      0.076314\n",
      "11    74.0  157.289710  1640.008991      0.078465\n",
      "12    75.0  161.265411  1669.304795      0.073770\n",
      "13    76.0  140.710366  1422.246951      0.072506\n",
      "14    77.0  111.216216  1073.554054      0.067713\n",
      "15    78.0  131.711111  1236.622222      0.057231\n",
      "16    79.0   55.217391   609.434783      0.062406\n",
      "17    80.0  111.400000  1222.000000      0.042239\n",
      "18    82.0   14.500000   415.500000      0.039472\n"
     ]
    }
   ],
   "source": [
    "grouped = walks_height_table.groupby('height').mean().reset_index()\n",
    "print grouped"
   ]
  },
  {
   "cell_type": "code",
   "execution_count": 41,
   "metadata": {
    "collapsed": false
   },
   "outputs": [
    {
     "data": {
      "text/html": [
       "<div>\n",
       "<table border=\"1\" class=\"dataframe\">\n",
       "  <thead>\n",
       "    <tr style=\"text-align: right;\">\n",
       "      <th></th>\n",
       "      <th>height</th>\n",
       "      <th>BB</th>\n",
       "      <th>AB</th>\n",
       "      <th>walk_percent</th>\n",
       "    </tr>\n",
       "  </thead>\n",
       "  <tbody>\n",
       "    <tr>\n",
       "      <th>count</th>\n",
       "      <td>19.000000</td>\n",
       "      <td>19.000000</td>\n",
       "      <td>19.000000</td>\n",
       "      <td>19.000000</td>\n",
       "    </tr>\n",
       "    <tr>\n",
       "      <th>mean</th>\n",
       "      <td>72.052632</td>\n",
       "      <td>135.420666</td>\n",
       "      <td>1484.776244</td>\n",
       "      <td>0.073643</td>\n",
       "    </tr>\n",
       "    <tr>\n",
       "      <th>std</th>\n",
       "      <td>5.720079</td>\n",
       "      <td>42.011417</td>\n",
       "      <td>424.844547</td>\n",
       "      <td>0.014265</td>\n",
       "    </tr>\n",
       "    <tr>\n",
       "      <th>min</th>\n",
       "      <td>63.000000</td>\n",
       "      <td>14.500000</td>\n",
       "      <td>415.500000</td>\n",
       "      <td>0.039472</td>\n",
       "    </tr>\n",
       "    <tr>\n",
       "      <th>25%</th>\n",
       "      <td>67.500000</td>\n",
       "      <td>121.555556</td>\n",
       "      <td>1300.811111</td>\n",
       "      <td>0.070109</td>\n",
       "    </tr>\n",
       "    <tr>\n",
       "      <th>50%</th>\n",
       "      <td>72.000000</td>\n",
       "      <td>151.293671</td>\n",
       "      <td>1647.507197</td>\n",
       "      <td>0.079348</td>\n",
       "    </tr>\n",
       "    <tr>\n",
       "      <th>75%</th>\n",
       "      <td>76.500000</td>\n",
       "      <td>156.385613</td>\n",
       "      <td>1757.342845</td>\n",
       "      <td>0.080334</td>\n",
       "    </tr>\n",
       "    <tr>\n",
       "      <th>max</th>\n",
       "      <td>82.000000</td>\n",
       "      <td>190.433333</td>\n",
       "      <td>2051.545455</td>\n",
       "      <td>0.092861</td>\n",
       "    </tr>\n",
       "  </tbody>\n",
       "</table>\n",
       "</div>"
      ],
      "text/plain": [
       "          height          BB           AB  walk_percent\n",
       "count  19.000000   19.000000    19.000000     19.000000\n",
       "mean   72.052632  135.420666  1484.776244      0.073643\n",
       "std     5.720079   42.011417   424.844547      0.014265\n",
       "min    63.000000   14.500000   415.500000      0.039472\n",
       "25%    67.500000  121.555556  1300.811111      0.070109\n",
       "50%    72.000000  151.293671  1647.507197      0.079348\n",
       "75%    76.500000  156.385613  1757.342845      0.080334\n",
       "max    82.000000  190.433333  2051.545455      0.092861"
      ]
     },
     "execution_count": 41,
     "metadata": {},
     "output_type": "execute_result"
    },
    {
     "data": {
      "image/png": "[encoded data removed]",
      "text/plain": [
       "<matplotlib.figure.Figure at 0xd7fe208>"
      ]
     },
     "metadata": {},
     "output_type": "display_data"
    }
   ],
   "source": [
    "grouped.plot(x='height', y='walk_percent')\n",
    "grouped.describe()"
   ]
  },
  {
   "cell_type": "code",
   "execution_count": 42,
   "metadata": {
    "collapsed": false
   },
   "outputs": [
    {
     "data": {
      "text/plain": [
       "<bound method DataFrame.head of     height     0\n",
       "0     63.0     6\n",
       "1     64.0    11\n",
       "2     65.0    30\n",
       "3     66.0   109\n",
       "4     67.0   228\n",
       "5     68.0   395\n",
       "6     69.0   645\n",
       "7     70.0  1055\n",
       "8     71.0  1304\n",
       "9     72.0  1459\n",
       "10    73.0  1157\n",
       "11    74.0  1001\n",
       "12    75.0   584\n",
       "13    76.0   328\n",
       "14    77.0   148\n",
       "15    78.0    45\n",
       "16    79.0    23\n",
       "17    80.0     5\n",
       "18    82.0     2>"
      ]
     },
     "execution_count": 42,
     "metadata": {},
     "output_type": "execute_result"
    }
   ],
   "source": [
    "number_players_by_height = walks_height_table.groupby('height').size().reset_index()\n",
    "number_players_by_height.head"
   ]
  },
  {
   "cell_type": "code",
   "execution_count": 43,
   "metadata": {
    "collapsed": false
   },
   "outputs": [
    {
     "data": {
      "text/plain": [
       "<matplotlib.axes._subplots.AxesSubplot at 0xc56ee48>"
      ]
     },
     "execution_count": 43,
     "metadata": {},
     "output_type": "execute_result"
    },
    {
     "data": {
      "image/png": "[encoded data removed]",
      "text/plain": [
       "<matplotlib.figure.Figure at 0xc577cc0>"
      ]
     },
     "metadata": {},
     "output_type": "display_data"
    }
   ],
   "source": [
    "number_players_by_height.plot()"
   ]
  },
  {
   "cell_type": "markdown",
   "metadata": {
    "collapsed": true
   },
   "source": [
    "# ** Summary ** #\n",
    "\n",
    "Intuitively, one would potentially think that a shorter baseball player would have a smaller batting strike zone and therefore receive more walks than average or taller players. This review indicates that would be a reasonable premise for a deeper statsistical analysis."
   ]
  },
  {
   "cell_type": "markdown",
   "metadata": {},
   "source": [
    "# ** References ** #\n",
    "http://pbi.becausecollective.com/baseball-beginner-faqs/\n",
    "\n",
    "http://www.businessinsider.com/mlb-strike-zone-2014-9\n",
    "\n",
    "https://www.google.com/search?q=baseball+strike+zone&rlz=1C1TSNF_enUS417US417&espv=2&biw=1093&bih=510&tbm=isch&tbo=u&source=univ&sa=X&ved=0ahUKEwjrjOmp-a_PAhXH4yYKHQVNAwYQsAQIQg&dpr=1.25\n",
    "\n",
    "https://en.wikipedia.org/wiki/Eddie_Gaedel\n"
   ]
  }
 ],
 "metadata": {
  "kernelspec": {
   "display_name": "Python 2",
   "language": "python",
   "name": "python2"
  },
  "language_info": {
   "codemirror_mode": {
    "name": "ipython",
    "version": 2
   },
   "file_extension": ".py",
   "mimetype": "text/x-python",
   "name": "python",
   "nbconvert_exporter": "python",
   "pygments_lexer": "ipython2",
   "version": "2.7.12"
  }
 },
 "nbformat": 4,
 "nbformat_minor": 0
}
